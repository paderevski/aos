{
 "cells": [
  {
   "cell_type": "code",
   "execution_count": 1,
   "id": "d8a0c81c-8692-43f5-9505-7c804bc5f892",
   "metadata": {},
   "outputs": [],
   "source": [
    "import random"
   ]
  },
  {
   "cell_type": "code",
   "execution_count": 76,
   "id": "774f985c-b0c3-4cc8-aeb6-edea93d7e944",
   "metadata": {},
   "outputs": [],
   "source": [
    "import sympy\n",
    "from sympy import var, Symbol, Rational, Sum, oo"
   ]
  },
  {
   "cell_type": "code",
   "execution_count": 77,
   "id": "6a867fd0-659a-4fdf-9022-e640e9b6e65b",
   "metadata": {},
   "outputs": [],
   "source": [
    "x = sympy.var('x')\n",
    "p = sympy.var('p')\n",
    "n = sympy.Symbol('n')"
   ]
  },
  {
   "cell_type": "code",
   "execution_count": 116,
   "id": "719a001e-3135-45b2-8b33-913d8bb1ded9",
   "metadata": {},
   "outputs": [],
   "source": [
    "def small_fract():\n",
    "    d = random.randint(2,8)\n",
    "    n = random.randint(1,d)\n",
    "    return sympy.Rational(n,d)"
   ]
  },
  {
   "cell_type": "code",
   "execution_count": 117,
   "id": "b8c1ce66-2a9e-4ff3-8848-2439c7aeceec",
   "metadata": {},
   "outputs": [],
   "source": [
    "def p_series(converges,alternating = False, a=False,b=False):\n",
    "    if a:\n",
    "        a = random.randint(1,6)\n",
    "    else:\n",
    "        a = 1\n",
    "    if b:\n",
    "        b = random.randint(-6,6)\n",
    "    else:\n",
    "        b = 0\n",
    "    if converges:\n",
    "        p = random.choices([1+small_fract(), random.randint(2,8)],weights=[0.9,0.1],k=1)[0]\n",
    "    else:\n",
    "        p = small_fract()\n",
    "    if alternating:\n",
    "        term = (-1)**n/(a*n**p + b)\n",
    "    else:\n",
    "        term = 1/(a*n**p + b)\n",
    "    return Sum(term,(n,1,oo))"
   ]
  },
  {
   "cell_type": "code",
   "execution_count": 126,
   "id": "6d9bf496-34cb-485e-8989-cb995341f036",
   "metadata": {},
   "outputs": [
    {
     "data": {
      "text/latex": [
       "$\\displaystyle \\sum_{n=1}^{\\infty} \\frac{1}{4 n^{\\frac{3}{2}} - 2}$"
      ],
      "text/plain": [
       "Sum(1/(4*n**(3/2) - 2), (n, 1, oo))"
      ]
     },
     "execution_count": 126,
     "metadata": {},
     "output_type": "execute_result"
    }
   ],
   "source": [
    "p_series(converges = True, alternating = False, a=True, b=True)"
   ]
  },
  {
   "cell_type": "code",
   "execution_count": null,
   "id": "89c5fb27-4caa-4f86-80aa-1261cb5d08ae",
   "metadata": {},
   "outputs": [],
   "source": []
  }
 ],
 "metadata": {
  "kernelspec": {
   "display_name": "Python 3 (ipykernel)",
   "language": "python",
   "name": "python3"
  },
  "language_info": {
   "codemirror_mode": {
    "name": "ipython",
    "version": 3
   },
   "file_extension": ".py",
   "mimetype": "text/x-python",
   "name": "python",
   "nbconvert_exporter": "python",
   "pygments_lexer": "ipython3",
   "version": "3.12.1"
  }
 },
 "nbformat": 4,
 "nbformat_minor": 5
}
