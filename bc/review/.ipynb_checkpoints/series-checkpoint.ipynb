{
 "cells": [
  {
   "cell_type": "code",
   "execution_count": 1,
   "id": "d8a0c81c-8692-43f5-9505-7c804bc5f892",
   "metadata": {},
   "outputs": [],
   "source": [
    "import random"
   ]
  },
  {
   "cell_type": "code",
   "execution_count": 3,
   "id": "774f985c-b0c3-4cc8-aeb6-edea93d7e944",
   "metadata": {},
   "outputs": [],
   "source": [
    "import sympy"
   ]
  },
  {
   "cell_type": "code",
   "execution_count": 8,
   "id": "6a867fd0-659a-4fdf-9022-e640e9b6e65b",
   "metadata": {},
   "outputs": [],
   "source": [
    "x = sympy.var('x')\n",
    "p = sympy.var('p')"
   ]
  },
  {
   "cell_type": "code",
   "execution_count": 26,
   "id": "719a001e-3135-45b2-8b33-913d8bb1ded9",
   "metadata": {},
   "outputs": [],
   "source": [
    "def small_fract():\n",
    "    d = random.randint(2,8)\n",
    "    n = random.randint(1,d)\n",
    "    return sympy.Rational(n,d)"
   ]
  },
  {
   "cell_type": "code",
   "execution_count": 45,
   "id": "b8c1ce66-2a9e-4ff3-8848-2439c7aeceec",
   "metadata": {},
   "outputs": [],
   "source": [
    "def p_series(converges,a=False,b=False):\n",
    "    if a:\n",
    "        a = random.randint(1,6)\n",
    "    else:\n",
    "        a = 1\n",
    "    if b:\n",
    "        b = random.randint(-6,6)\n",
    "    else:\n",
    "        b = 0\n",
    "    if converges:\n",
    "        p = random.randint(2,8)\n",
    "    else:\n",
    "        p = small_fract()\n",
    "    term = 1/(a*x**p + b)\n",
    "    return term"
   ]
  },
  {
   "cell_type": "code",
   "execution_count": 46,
   "id": "6d9bf496-34cb-485e-8989-cb995341f036",
   "metadata": {},
   "outputs": [
    {
     "data": {
      "text/latex": [
       "$\\displaystyle \\frac{1}{6 x + 6}$"
      ],
      "text/plain": [
       "1/(6*x + 6)"
      ]
     },
     "execution_count": 46,
     "metadata": {},
     "output_type": "execute_result"
    }
   ],
   "source": [
    "p_series(False, True, True)"
   ]
  },
  {
   "cell_type": "code",
   "execution_count": 42,
   "id": "ed9814ea-b9db-4556-82aa-a0f6522a3a72",
   "metadata": {},
   "outputs": [
    {
     "data": {
      "text/latex": [
       "$\\displaystyle \\frac{1}{x^{2}}$"
      ],
      "text/plain": [
       "x**(-2)"
      ]
     },
     "execution_count": 42,
     "metadata": {},
     "output_type": "execute_result"
    }
   ],
   "source": [
    "1/x**2"
   ]
  },
  {
   "cell_type": "code",
   "execution_count": null,
   "id": "6142b60d-746d-4554-b188-56ca26c20a41",
   "metadata": {},
   "outputs": [],
   "source": []
  }
 ],
 "metadata": {
  "kernelspec": {
   "display_name": "Python 3 (ipykernel)",
   "language": "python",
   "name": "python3"
  },
  "language_info": {
   "codemirror_mode": {
    "name": "ipython",
    "version": 3
   },
   "file_extension": ".py",
   "mimetype": "text/x-python",
   "name": "python",
   "nbconvert_exporter": "python",
   "pygments_lexer": "ipython3",
   "version": "3.12.1"
  }
 },
 "nbformat": 4,
 "nbformat_minor": 5
}
