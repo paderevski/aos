{
 "cells": [
  {
   "cell_type": "code",
   "execution_count": null,
   "id": "7a8cfa5a-2edc-4db2-8d59-ba90693214b5",
   "metadata": {},
   "outputs": [],
   "source": [
    "import re\n",
    "\n",
    "# The markdown text to be converted\n",
    "markdown_text = open(\"test.md\",\"r\").readlines()\n",
    "markdown_text = [m for m in markdown_text if m[0] not in ('#',';')]\n",
    "markdown_text = ''.join(markdown_text)\n",
    "markdown_text = markdown_text.replace(\"<\", \"&lt;\")\n",
    "markdown_text = markdown_text.replace(\">\", \"&gt;\") "
   ]
  },
  {
   "cell_type": "code",
   "execution_count": null,
   "id": "15367ac2-70b9-4dcd-969b-15c820fd0146",
   "metadata": {
    "scrolled": true
   },
   "outputs": [],
   "source": [
    "\n",
    "# Split the text into individual questions\n",
    "questions = re.split(r'\\n+\\d+\\.\\s+', markdown_text)\n",
    "questions = [q for q in questions if (len(q)>3)]\n",
    "\n",
    "# Function to convert a question block into the markup format\n",
    "def convert_to_markup(question):\n",
    "    parts = re.split(r'\\n\\s*[a-e]\\.\\s+', question)\n",
    "    question_text = parts[0].strip()\n",
    "    choices = parts[1:]\n",
    "    \n",
    "    markup = \"<Q>\\n<t>{}</t>\\n\".format(question_text)\n",
    "    for index, choice in enumerate(choices):\n",
    "        if index == 0:  # Mark the first choice as the correct one\n",
    "            markup += \"<CC> {} </CC>\\n\".format(choice)\n",
    "        else:\n",
    "            markup += \"<c> {} </c>\\n\".format(choice)\n",
    "    markup += \"</Q>\\n\"\n",
    "    return markup\n",
    "\n",
    "# Convert each question to markup and combine\n",
    "markup_text = \"\\n\".join([convert_to_markup(q) for q in questions if q])\n",
    "\n",
    "print(markup_text)\n",
    "\n",
    "f = open(\"question_bank.txt\",\"w\")\n",
    "f.write(markup_text)\n",
    "f.close()"
   ]
  },
  {
   "cell_type": "code",
   "execution_count": null,
   "id": "7b555618-3681-4c91-8972-cf6a07b66d1a",
   "metadata": {},
   "outputs": [],
   "source": [
    "import xml.etree.ElementTree as ET\n",
    "\n",
    "# Define the class structures\n",
    "class Choice:\n",
    "    def __init__(self, text, correct=False):\n",
    "        self.text = text\n",
    "        self.correct = correct\n",
    "\n",
    "class Question:\n",
    "    def __init__(self, text, choices=[]):\n",
    "        self.text = text\n",
    "        self.choices = choices\n",
    "\n",
    "    def add_choice(self, choice):\n",
    "        self.choices.append(choice)"
   ]
  },
  {
   "cell_type": "code",
   "execution_count": null,
   "id": "28090752-465e-4c0b-96c7-02ab702b2b6a",
   "metadata": {},
   "outputs": [],
   "source": [
    "import random\n",
    "\n",
    "# Sample markup text\n",
    "markup_text = open(\"question_bank.txt\", \"r\").read()\n",
    "\n",
    "def parse_markup(markup_text):\n",
    "    # Parse the markup text into an ElementTree\n",
    "    root = ET.fromstring(\"<root>\" + markup_text + \"</root>\")\n",
    "    \n",
    "    questions = []\n",
    "    \n",
    "    # Iterate over each question in the markup\n",
    "    for q_elem in root.findall('Q'):\n",
    "        question_text = q_elem.find('t').text\n",
    "        choices = []\n",
    "        \n",
    "        # Iterate over each choice in the question\n",
    "        for c_elem in q_elem.findall('c'):\n",
    "            choices.append(Choice(text=c_elem.text, correct=False))\n",
    "        for cc_elem in q_elem.findall('CC'):\n",
    "            choices.append(Choice(text=cc_elem.text, correct=True))\n",
    "        \n",
    "        question = Question(text=question_text, choices=choices)\n",
    "        questions.append(question)\n",
    "    \n",
    "    return questions\n",
    "\n",
    "# Parse the markup text\n",
    "questions = parse_markup(markup_text)\n",
    "outfile = open(\"test-new.md\",\"w\")\n",
    "\n",
    "# Display the parsed questions and choices\n",
    "for question in questions:\n",
    "    outfile.write(\"1.  \"+question.text+\"\\n\")\n",
    "    random.shuffle(question.choices)\n",
    "    for choice in question.choices:\n",
    "        if choice.correct:\n",
    "            decoration = \"\\u2713\"\n",
    "        else:\n",
    "            decoration = \"\"\n",
    "        outfile.write(f\"    a.  {choice.text} {decoration}\"+\"\\n\")\n",
    "outfile.close()"
   ]
  },
  {
   "cell_type": "code",
   "execution_count": null,
   "id": "404fda3e-1168-46bc-823a-82dee54e921c",
   "metadata": {},
   "outputs": [],
   "source": []
  },
  {
   "cell_type": "code",
   "execution_count": null,
   "id": "b2a80097-8dca-4261-b13f-0046e7c07be3",
   "metadata": {},
   "outputs": [],
   "source": []
  }
 ],
 "metadata": {
  "kernelspec": {
   "display_name": "Python 3 (ipykernel)",
   "language": "python",
   "name": "python3"
  },
  "language_info": {
   "codemirror_mode": {
    "name": "ipython",
    "version": 3
   },
   "file_extension": ".py",
   "mimetype": "text/x-python",
   "name": "python",
   "nbconvert_exporter": "python",
   "pygments_lexer": "ipython3",
   "version": "3.10.12"
  }
 },
 "nbformat": 4,
 "nbformat_minor": 5
}
