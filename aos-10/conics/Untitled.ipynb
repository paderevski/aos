{
 "cells": [
  {
   "cell_type": "code",
   "execution_count": 1,
   "id": "17a7a39f-0705-4b91-824f-f5db30a59e10",
   "metadata": {},
   "outputs": [],
   "source": [
    "c = (-3,7)\n",
    "R = 9.5"
   ]
  },
  {
   "cell_type": "code",
   "execution_count": 30,
   "id": "6214ac8a-4b36-4dd3-9c7e-bd4d6ca4f433",
   "metadata": {},
   "outputs": [],
   "source": [
    "import random\n",
    "import math\n",
    "import numpy"
   ]
  },
  {
   "cell_type": "code",
   "execution_count": 4,
   "id": "4ddaa187-b45b-4e95-ba16-940607064e3e",
   "metadata": {},
   "outputs": [
    {
     "data": {
      "text/plain": [
       "9.253972793387954"
      ]
     },
     "execution_count": 4,
     "metadata": {},
     "output_type": "execute_result"
    }
   ],
   "source": [
    "random.normalvariate(R,0.5)"
   ]
  },
  {
   "cell_type": "code",
   "execution_count": 28,
   "id": "571b37bf-17d2-4343-8d6f-c0ed58e116e0",
   "metadata": {},
   "outputs": [],
   "source": [
    "points = []\n",
    "for k in range(20):\n",
    "    t = random.random()*2*3.1415926536\n",
    "    r = random.normalvariate(R, 0.1)\n",
    "    x = c[0]+r*math.cos(t)\n",
    "    y = c[1]+r*math.sin(t)\n",
    "    p = (x,y)\n",
    "    points += [p]"
   ]
  },
  {
   "cell_type": "code",
   "execution_count": 29,
   "id": "4781dc1b-10e2-4c3c-9b0f-df503cbbed8c",
   "metadata": {},
   "outputs": [
    {
     "data": {
      "text/plain": [
       "[(-12.574382669676925, 6.758834113762427),\n",
       " (-11.851587296058511, 3.6737324887463734),\n",
       " (4.705657806772859, 1.3482701816103724),\n",
       " (-12.205479069417635, 9.963777371212114),\n",
       " (-11.182262214058913, 11.725032814787944),\n",
       " (-1.1893722563135722, 16.137328733383075),\n",
       " (-11.332211994531967, 2.418867424794347),\n",
       " (-4.066646271747668, -2.2964192717349086),\n",
       " (-7.682078565827619, 15.367824010213837),\n",
       " (-4.023115674338385, 16.41314923000169),\n",
       " (0.644291321306719, 15.748294911575412),\n",
       " (-9.648853531666024, 0.22698124185635749),\n",
       " (-5.883422154914975, -2.044142326959671),\n",
       " (-12.216616087884004, 5.392327155353044),\n",
       " (2.445738264180436, -0.7666094154414509),\n",
       " (-11.479399553291193, 11.434985740163158),\n",
       " (2.8644567753116483, 14.189742018574197),\n",
       " (-8.903759749618324, -0.46752019821910284),\n",
       " (6.167789307713502, 9.280409979333463),\n",
       " (1.5744327549683046, -1.282851477495793)]"
      ]
     },
     "execution_count": 29,
     "metadata": {},
     "output_type": "execute_result"
    }
   ],
   "source": [
    "points"
   ]
  },
  {
   "cell_type": "code",
   "execution_count": 31,
   "id": "1de329f2-e1de-4674-accf-4c48dccf3c22",
   "metadata": {},
   "outputs": [],
   "source": [
    "M = numpy.array(points)"
   ]
  },
  {
   "cell_type": "code",
   "execution_count": 32,
   "id": "fc5fd5dd-4ad3-4719-afc6-6d4545d11dad",
   "metadata": {},
   "outputs": [
    {
     "data": {
      "text/plain": [
       "array([[-12.57438267,   6.75883411],\n",
       "       [-11.8515873 ,   3.67373249],\n",
       "       [  4.70565781,   1.34827018],\n",
       "       [-12.20547907,   9.96377737],\n",
       "       [-11.18226221,  11.72503281],\n",
       "       [ -1.18937226,  16.13732873],\n",
       "       [-11.33221199,   2.41886742],\n",
       "       [ -4.06664627,  -2.29641927],\n",
       "       [ -7.68207857,  15.36782401],\n",
       "       [ -4.02311567,  16.41314923],\n",
       "       [  0.64429132,  15.74829491],\n",
       "       [ -9.64885353,   0.22698124],\n",
       "       [ -5.88342215,  -2.04414233],\n",
       "       [-12.21661609,   5.39232716],\n",
       "       [  2.44573826,  -0.76660942],\n",
       "       [-11.47939955,  11.43498574],\n",
       "       [  2.86445678,  14.18974202],\n",
       "       [ -8.90375975,  -0.4675202 ],\n",
       "       [  6.16778931,   9.28040998],\n",
       "       [  1.57443275,  -1.28285148]])"
      ]
     },
     "execution_count": 32,
     "metadata": {},
     "output_type": "execute_result"
    }
   ],
   "source": [
    "M"
   ]
  },
  {
   "cell_type": "code",
   "execution_count": 33,
   "id": "ca61d22e-bc96-43e9-9f57-31aed71d0619",
   "metadata": {},
   "outputs": [
    {
     "data": {
      "text/plain": [
       "array([-5.29184104,  6.66110074])"
      ]
     },
     "execution_count": 33,
     "metadata": {},
     "output_type": "execute_result"
    }
   ],
   "source": [
    "numpy.average(M,0)"
   ]
  },
  {
   "cell_type": "code",
   "execution_count": 17,
   "id": "93233d55-dc31-471e-bbc9-dd47954d5049",
   "metadata": {},
   "outputs": [
    {
     "data": {
      "text/plain": [
       "[(9.130126765307331, 2.7344592965868837),\n",
       " (6.129607753715605, 7.424323313195602),\n",
       " (1.7386515348049043, -10.148763821988764),\n",
       " (8.427650270567842, -2.8746132583919595),\n",
       " (3.4805054568643343, -8.939351125135392),\n",
       " (-2.3222740248384386, 9.104098706878478),\n",
       " (-3.288009001002723, 9.19653547013236),\n",
       " (8.113217030919941, -4.876816194228296),\n",
       " (7.7126366219684686, -6.510620861886366),\n",
       " (-1.3502909802394654, -9.518014975774244),\n",
       " (-8.16190755471487, -5.1148391716885016),\n",
       " (-8.951618705439246, -2.74114930900704),\n",
       " (-7.825104955679203, 4.305123112749916),\n",
       " (-8.290648353846908, -2.79404960634867),\n",
       " (-8.624653185983346, 3.7430532161096335),\n",
       " (-1.7633385447415733, -8.902046208496822),\n",
       " (-8.269288944637252, 4.411304726484091),\n",
       " (0.2759790937469578, -10.713329722612205),\n",
       " (-3.395523037550635, 9.007186245830942),\n",
       " (-5.000912339334905, -8.676474976884453)]"
      ]
     },
     "execution_count": 17,
     "metadata": {},
     "output_type": "execute_result"
    }
   ],
   "source": [
    "points"
   ]
  },
  {
   "cell_type": "code",
   "execution_count": 21,
   "id": "0e60cd5b-b54a-4579-95e2-0f4c0b653cde",
   "metadata": {},
   "outputs": [
    {
     "data": {
      "text/plain": [
       "-1.111759755005659"
      ]
     },
     "execution_count": 21,
     "metadata": {},
     "output_type": "execute_result"
    }
   ],
   "source": [
    "sum([x for (x,y) in points])/len(points)"
   ]
  },
  {
   "cell_type": "code",
   "execution_count": null,
   "id": "535aa1ce-1a7c-42e4-924a-c720a2ede7ec",
   "metadata": {},
   "outputs": [],
   "source": []
  }
 ],
 "metadata": {
  "kernelspec": {
   "display_name": "Python 3 (ipykernel)",
   "language": "python",
   "name": "python3"
  },
  "language_info": {
   "codemirror_mode": {
    "name": "ipython",
    "version": 3
   },
   "file_extension": ".py",
   "mimetype": "text/x-python",
   "name": "python",
   "nbconvert_exporter": "python",
   "pygments_lexer": "ipython3",
   "version": "3.10.12"
  }
 },
 "nbformat": 4,
 "nbformat_minor": 5
}
