{
 "cells": [
  {
   "cell_type": "markdown",
   "id": "c84d17f0-92eb-41ee-8631-f2dce2e76929",
   "metadata": {},
   "source": [
    "## HW3 Key"
   ]
  },
  {
   "cell_type": "code",
   "execution_count": 2,
   "id": "4ce242d3-f858-459b-ad9e-570750ce51d2",
   "metadata": {},
   "outputs": [],
   "source": [
    "import numpy"
   ]
  },
  {
   "cell_type": "code",
   "execution_count": 3,
   "id": "f4e1eac0-9fc8-4d72-b5e1-14cea883b7cb",
   "metadata": {},
   "outputs": [],
   "source": [
    "l0 = [15,19,18,15,17,19,19,17,21,15,19,20,11,16,17]"
   ]
  },
  {
   "cell_type": "code",
   "execution_count": 4,
   "id": "e109ab0f-21f8-44a0-8a51-296a637cf7da",
   "metadata": {},
   "outputs": [],
   "source": [
    "l1 = [85,67,77,82,70,78]"
   ]
  },
  {
   "cell_type": "code",
   "execution_count": 5,
   "id": "7204cdee-7ef4-44ef-9252-c6473989d015",
   "metadata": {},
   "outputs": [],
   "source": [
    "l2=[85,67,77,82,78,45]"
   ]
  },
  {
   "cell_type": "code",
   "execution_count": 6,
   "id": "fa463645-abb6-4cf8-8176-5b464ce5385e",
   "metadata": {},
   "outputs": [],
   "source": [
    "l3=[85,77,82,70,87,45]"
   ]
  },
  {
   "cell_type": "markdown",
   "id": "9ef4837f-5b63-4a10-a9c8-2e1ee2735f00",
   "metadata": {},
   "source": [
    "Number 1 and 2"
   ]
  },
  {
   "cell_type": "code",
   "execution_count": 7,
   "id": "8909d6bf-d393-4991-b5f1-e4d15bee1bbf",
   "metadata": {},
   "outputs": [
    {
     "data": {
      "text/plain": [
       "(17.2, 6.026666666666667, 2.4549270186029295)"
      ]
     },
     "execution_count": 7,
     "metadata": {},
     "output_type": "execute_result"
    }
   ],
   "source": [
    "numpy.mean(l0), numpy.var(l0), numpy.std(l0)"
   ]
  },
  {
   "cell_type": "markdown",
   "id": "426b1ac9-17d4-4424-b185-a3a66205b286",
   "metadata": {},
   "source": [
    "Number 3 L1"
   ]
  },
  {
   "cell_type": "code",
   "execution_count": 8,
   "id": "38cd5824-4615-49e5-b619-0b279e93eeb4",
   "metadata": {},
   "outputs": [
    {
     "data": {
      "text/plain": [
       "(76.5, 77.5, 6.2915286960589585)"
      ]
     },
     "execution_count": 8,
     "metadata": {},
     "output_type": "execute_result"
    }
   ],
   "source": [
    "numpy.mean(l1), numpy.median(l1), numpy.std(l1)"
   ]
  },
  {
   "cell_type": "markdown",
   "id": "00365f86-f4ea-4345-af6c-48c1f45afc47",
   "metadata": {},
   "source": [
    "The mean and median are good measures of center."
   ]
  },
  {
   "cell_type": "markdown",
   "id": "3cb41bca-1dac-4c24-9979-a2508fd6c42a",
   "metadata": {},
   "source": [
    "Number 3 L2"
   ]
  },
  {
   "cell_type": "code",
   "execution_count": 9,
   "id": "6b7abbda-cc33-4a15-89b9-7615957b7f1d",
   "metadata": {},
   "outputs": [
    {
     "data": {
      "text/plain": [
       "(72.33333333333333, 77.5, 13.437096247164249)"
      ]
     },
     "execution_count": 9,
     "metadata": {},
     "output_type": "execute_result"
    }
   ],
   "source": [
    "numpy.mean(l2), numpy.median(l2), numpy.std(l2)"
   ]
  },
  {
   "cell_type": "markdown",
   "id": "4298e945-2669-42cb-81e0-0f387786ff8f",
   "metadata": {},
   "source": [
    "The median is a better measure of center due to the outliers and large stdev."
   ]
  },
  {
   "cell_type": "markdown",
   "id": "259d836d-324f-49ac-b91f-e39d0d7e3e5d",
   "metadata": {},
   "source": [
    "Number 3 L3"
   ]
  },
  {
   "cell_type": "code",
   "execution_count": 10,
   "id": "caec8870-001d-4887-a4a0-c54659c5571d",
   "metadata": {},
   "outputs": [
    {
     "data": {
      "text/plain": [
       "(74.33333333333333, 79.5, 14.255603186895398)"
      ]
     },
     "execution_count": 10,
     "metadata": {},
     "output_type": "execute_result"
    }
   ],
   "source": [
    "numpy.mean(l3), numpy.median(l3), numpy.std(l3)"
   ]
  },
  {
   "cell_type": "markdown",
   "id": "06c31ac9-20ae-420e-8b92-304b8d6f93bc",
   "metadata": {},
   "source": [
    "The median is a better measure of center due to the outliers and large stdev."
   ]
  },
  {
   "cell_type": "markdown",
   "id": "55b67e90-c434-486e-8ff9-6263242c3aac",
   "metadata": {},
   "source": [
    "Number 4"
   ]
  },
  {
   "cell_type": "code",
   "execution_count": 14,
   "id": "ba28986d-305b-4f82-8954-b26555827e8e",
   "metadata": {},
   "outputs": [
    {
     "data": {
      "text/plain": [
       "1.3510230042063447"
      ]
     },
     "execution_count": 14,
     "metadata": {},
     "output_type": "execute_result"
    }
   ],
   "source": [
    "(numpy.max(l1)-numpy.mean(l1)) / numpy.std(l1)"
   ]
  },
  {
   "cell_type": "code",
   "execution_count": 15,
   "id": "82473415-b867-45f3-b6c5-8701823422a5",
   "metadata": {},
   "outputs": [
    {
     "data": {
      "text/plain": [
       "-1.5099668870541498"
      ]
     },
     "execution_count": 15,
     "metadata": {},
     "output_type": "execute_result"
    }
   ],
   "source": [
    "(numpy.min(l1)-numpy.mean(l1)) / numpy.std(l1)"
   ]
  },
  {
   "cell_type": "code",
   "execution_count": 16,
   "id": "919e5e5f-3365-402b-8b5a-e4226ce5c471",
   "metadata": {},
   "outputs": [
    {
     "data": {
      "text/plain": [
       "0.9426639828779847"
      ]
     },
     "execution_count": 16,
     "metadata": {},
     "output_type": "execute_result"
    }
   ],
   "source": [
    "(numpy.max(l2)-numpy.mean(l2)) / numpy.std(l2)"
   ]
  },
  {
   "cell_type": "code",
   "execution_count": 17,
   "id": "b2189857-e680-4dea-8038-7baf1a29a3ce",
   "metadata": {},
   "outputs": [
    {
     "data": {
      "text/plain": [
       "-2.0341696472630186"
      ]
     },
     "execution_count": 17,
     "metadata": {},
     "output_type": "execute_result"
    }
   ],
   "source": [
    "(numpy.min(l2)-numpy.mean(l2)) / numpy.std(l2)"
   ]
  },
  {
   "cell_type": "code",
   "execution_count": 18,
   "id": "63544b34-9f59-49af-b3ad-98cf9fd0c1d1",
   "metadata": {},
   "outputs": [
    {
     "data": {
      "text/plain": [
       "0.8885395097354161"
      ]
     },
     "execution_count": 18,
     "metadata": {},
     "output_type": "execute_result"
    }
   ],
   "source": [
    "(numpy.max(l3)-numpy.mean(l3)) / numpy.std(l3)"
   ]
  },
  {
   "cell_type": "code",
   "execution_count": 19,
   "id": "d4ba437b-975f-4ab6-992b-4af8debedf01",
   "metadata": {},
   "outputs": [
    {
     "data": {
      "text/plain": [
       "-2.0576704435978046"
      ]
     },
     "execution_count": 19,
     "metadata": {},
     "output_type": "execute_result"
    }
   ],
   "source": [
    "(numpy.min(l3)-numpy.mean(l3)) / numpy.std(l3)"
   ]
  }
 ],
 "metadata": {
  "kernelspec": {
   "display_name": "Python 3 (ipykernel)",
   "language": "python",
   "name": "python3"
  },
  "language_info": {
   "codemirror_mode": {
    "name": "ipython",
    "version": 3
   },
   "file_extension": ".py",
   "mimetype": "text/x-python",
   "name": "python",
   "nbconvert_exporter": "python",
   "pygments_lexer": "ipython3",
   "version": "3.10.12"
  }
 },
 "nbformat": 4,
 "nbformat_minor": 5
}
